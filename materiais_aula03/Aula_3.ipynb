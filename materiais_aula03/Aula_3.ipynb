{
 "cells": [
  {
   "cell_type": "markdown",
   "id": "870530a5",
   "metadata": {},
   "source": [
    "# Projeto 3: Operando no MetaTrader e comprando as ações indicadas pelo modelo.\n",
    "\n",
    "### Desafio:\n",
    "\n",
    "* Construir um código que se conecte direto na bolsa e compre as ações indicadas.\n",
    "   \n",
    "### Passo a passo do código? \n",
    "\n",
    "   **Passo 1** - Rodar o código da aula anterior.\n",
    "   \n",
    "   **Passo 2** - Baixar e configurar o MetaTrader pra sua conta em uma corretora.\n",
    "   \n",
    "   **Passo 3** - Importar as bibliotecas. \n",
    "\n",
    "   **Passo 4** - Inicializar o MetaTrader. \n",
    "   \n",
    "   **Passo 5** - Entender a biblioteca do MT5 pro Python.  \n",
    "   \n",
    "   **Passo 6** - Configurar o dicionário da ordem e comprar ações."
   ]
  },
  {
   "cell_type": "markdown",
   "id": "4b2b347a",
   "metadata": {},
   "source": [
    "# Passo 1: Rodar o código da aula anterior. "
   ]
  },
  {
   "cell_type": "code",
   "execution_count": null,
   "id": "c2d2a677",
   "metadata": {},
   "outputs": [],
   "source": [
    "from selenium import webdriver\n",
    "from selenium.webdriver.chrome.service import Service\n",
    "from webdriver_manager.chrome import ChromeDriverManager\n",
    "import pandas as pd"
   ]
  },
  {
   "cell_type": "code",
   "execution_count": null,
   "id": "b74b86a1",
   "metadata": {},
   "outputs": [],
   "source": [
    "driver = webdriver.Chrome(service=Service(ChromeDriverManager().install()))\n",
    "\n",
    "url = 'https://www.fundamentus.com.br/resultado.php'\n",
    "\n",
    "driver.get(url)\n",
    "local_tabela = '/html/body/div[1]/div[2]/table'\n",
    "elemento = driver.find_element(\"xpath\", local_tabela)\n",
    "html_tabela = elemento.get_attribute('outerHTML')\n",
    "tabela = pd.read_html(str(html_tabela), thousands = '.', decimal = ',')[0]\n",
    "\n",
    "tabela = tabela.set_index(\"Papel\")\n",
    "tabela = tabela[['Cotação', 'EV/EBIT', 'ROIC', 'Liq.2meses']]\n",
    "tabela['ROIC'] = tabela['ROIC'].str.replace(\"%\", \"\")\n",
    "tabela['ROIC'] = tabela['ROIC'].str.replace(\".\", \"\")\n",
    "tabela['ROIC'] = tabela['ROIC'].str.replace(\",\", \".\")\n",
    "tabela['ROIC'] = tabela['ROIC'].astype(float)\n",
    "\n",
    "tabela = tabela[tabela['Liq.2meses'] > 1000000]\n",
    "tabela = tabela[tabela['EV/EBIT'] > 0]\n",
    "tabela = tabela[tabela['ROIC'] > 0]\n",
    "\n",
    "tabela['ranking_ev_ebit'] = tabela['EV/EBIT'].rank(ascending = True)\n",
    "tabela['ranking_roic'] = tabela['ROIC'].rank(ascending = False)\n",
    "tabela['ranking_total'] = tabela['ranking_ev_ebit'] + tabela['ranking_roic']\n",
    "\n",
    "tabela = tabela.sort_values('ranking_total')\n"
   ]
  },
  {
   "cell_type": "code",
   "execution_count": null,
   "id": "deb7c9c7",
   "metadata": {},
   "outputs": [],
   "source": [
    "tabela = tabela.head(10)\n",
    "\n",
    "tickers = tabela.index\n",
    "\n",
    "tickers"
   ]
  },
  {
   "cell_type": "markdown",
   "id": "d7876db3",
   "metadata": {},
   "source": [
    "# Passo 2: Baixar e configurar o MT5.\n",
    "\n",
    "* Cada corretora é de uma forma. Pesquisa como é feito na sua.\n",
    "* Conta demo, sempre!"
   ]
  },
  {
   "cell_type": "markdown",
   "id": "2b4d8021",
   "metadata": {},
   "source": [
    "# Passo 3: Importar as bibliotecas."
   ]
  },
  {
   "cell_type": "code",
   "execution_count": null,
   "id": "4e900312",
   "metadata": {},
   "outputs": [],
   "source": [
    "!pip install MetaTrader5"
   ]
  },
  {
   "cell_type": "code",
   "execution_count": null,
   "id": "23ef9905",
   "metadata": {},
   "outputs": [],
   "source": [
    "import MetaTrader5 as mt5"
   ]
  },
  {
   "cell_type": "markdown",
   "id": "453a08b0",
   "metadata": {},
   "source": [
    "# Passo 4: Inicializar o MT5."
   ]
  },
  {
   "cell_type": "code",
   "execution_count": null,
   "id": "a1d15a9b",
   "metadata": {},
   "outputs": [],
   "source": [
    "mt5.initialize()"
   ]
  },
  {
   "cell_type": "markdown",
   "id": "e3f51c09",
   "metadata": {},
   "source": [
    "# Passo 5: Explorar a documentação da biblioteca do MT5.\n",
    "\n",
    "https://www.mql5.com/en/docs/python_metatrader5"
   ]
  },
  {
   "cell_type": "code",
   "execution_count": null,
   "id": "068fa7e8",
   "metadata": {},
   "outputs": [],
   "source": [
    "ticker = 'WEGE3'\n",
    "info_acoes = mt5.symbol_info(ticker)\n",
    "preco = mt5.symbol_info_tick(ticker)"
   ]
  },
  {
   "cell_type": "markdown",
   "id": "c82dc35c",
   "metadata": {},
   "source": [
    "# Passo 6: Configurar o dicionário da ordem e comprar ações."
   ]
  },
  {
   "cell_type": "code",
   "execution_count": null,
   "id": "5c1350b3",
   "metadata": {},
   "outputs": [],
   "source": [
    "for ticker in tickers:\n",
    "\n",
    "    print(ticker)\n",
    "\n",
    "    info_acoes = mt5.symbol_info(ticker)\n",
    "    mt5.symbol_select(ticker)\n",
    "    tick_min = mt5.symbol_info(ticker).point\n",
    "    preco = mt5.symbol_info_tick(ticker).ask\n",
    "    quantidade = 100.0\n",
    "    ordem_compra = {\n",
    "        \"action\": mt5.TRADE_ACTION_DEAL,\n",
    "        \"symbol\": ticker,\n",
    "        \"volume\": quantidade,\n",
    "        \"type\": mt5.ORDER_TYPE_BUY,\n",
    "        \"price\": preco,\n",
    "        \"magic\": 1,\n",
    "        \"comment\": \"Trades automáticos\",\n",
    "        \"type_time\": mt5.ORDER_TIME_DAY,\n",
    "        \"type_filling\": mt5.ORDER_FILLING_RETURN,\n",
    "    }\n",
    "    result_compra = mt5.order_send(ordem_compra)\n",
    "    print(result_compra)"
   ]
  },
  {
   "cell_type": "code",
   "execution_count": null,
   "id": "edd0104b",
   "metadata": {},
   "outputs": [],
   "source": []
  },
  {
   "cell_type": "code",
   "execution_count": null,
   "id": "3174750e",
   "metadata": {},
   "outputs": [],
   "source": []
  }
 ],
 "metadata": {
  "kernelspec": {
   "display_name": "Python 3 (ipykernel)",
   "language": "python",
   "name": "python3"
  },
  "language_info": {
   "codemirror_mode": {
    "name": "ipython",
    "version": 3
   },
   "file_extension": ".py",
   "mimetype": "text/x-python",
   "name": "python",
   "nbconvert_exporter": "python",
   "pygments_lexer": "ipython3",
   "version": "3.11.3"
  }
 },
 "nbformat": 4,
 "nbformat_minor": 5
}
