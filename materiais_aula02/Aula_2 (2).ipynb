{
 "cells": [
  {
   "cell_type": "markdown",
   "id": "7628be9a",
   "metadata": {},
   "source": [
    "# Projeto 2: Como pegar dados em sites e automatizar a criação da carteira do nosso modelo.\n",
    "\n",
    "### Desafio:\n",
    "\n",
    "* Construir um código que vá no fundamentus.com e busque dados de todos os indicadores da bolsa brasileira e gere a carteira selecionando as maiores ev_ebit e roic.    \n",
    "\n",
    "\n",
    "### Passo a passo:\n",
    "\n",
    "   **Passo 1** - Definir um navegador que você irá utilizar para navegar com o Python.\n",
    "\n",
    "   **Passo 2** - Importar os módulos e bibliotecas.\n",
    "   \n",
    "   **Passo 3** - Entender como funcionam requisições na internet.\n",
    "   \n",
    "   **Passo 4** - Entender como sites funcionam.\n",
    "   \n",
    "   **Passo 5** - Conhecer e mapear o processo de coleta de dados no site do Fundamentus. \n",
    "   \n",
    "   **Passo 6** - Ler a tabela de dados.\n",
    "   \n",
    "   **Passo 7** - Construir a tabela final."
   ]
  },
  {
   "cell_type": "markdown",
   "id": "066f9514",
   "metadata": {},
   "source": [
    "# Passo 1: Escolher o navegador.\n",
    "\n",
    "No nosso caso, utilizaremos o Google Chrome. "
   ]
  },
  {
   "cell_type": "markdown",
   "id": "0dcee06f",
   "metadata": {},
   "source": [
    "# Passo 2: Importar as bibliotecas."
   ]
  },
  {
   "cell_type": "code",
   "execution_count": null,
   "id": "99fed93d",
   "metadata": {},
   "outputs": [],
   "source": [
    "!pip install selenium"
   ]
  },
  {
   "cell_type": "code",
   "execution_count": null,
   "id": "7a90af49",
   "metadata": {},
   "outputs": [],
   "source": [
    "pip install webdriver-manager"
   ]
  },
  {
   "cell_type": "code",
   "execution_count": null,
   "id": "48f7ea63",
   "metadata": {},
   "outputs": [],
   "source": [
    "from selenium import webdriver\n",
    "from selenium.webdriver.chrome.service import Service\n",
    "from webdriver_manager.chrome import ChromeDriverManager\n",
    "import pandas as pd"
   ]
  },
  {
   "cell_type": "markdown",
   "id": "78590487",
   "metadata": {},
   "source": [
    "# Passo 3: Entender como funcionam requisições na internet."
   ]
  },
  {
   "cell_type": "code",
   "execution_count": null,
   "id": "0bf5bab0",
   "metadata": {},
   "outputs": [],
   "source": [
    "driver = webdriver.Chrome(service=Service(ChromeDriverManager().install()))\n",
    "\n",
    "url = 'https://www.fundamentus.com.br/resultado.php'\n",
    "\n",
    "driver.get(url)"
   ]
  },
  {
   "cell_type": "markdown",
   "id": "2e3531c3",
   "metadata": {},
   "source": [
    "# Passo 4: Entender como sites funcionam."
   ]
  },
  {
   "cell_type": "markdown",
   "id": "b93edbe0",
   "metadata": {},
   "source": [
    "# Passo 5: Mapear o processo de coleta de dados no site do Fundamentus.\n",
    "\n",
    "https://www.fundamentus.com.br/index.php"
   ]
  },
  {
   "cell_type": "markdown",
   "id": "e4760269",
   "metadata": {},
   "source": [
    "# Passo 6 - Ler a tabela de dados."
   ]
  },
  {
   "cell_type": "code",
   "execution_count": null,
   "id": "43352333",
   "metadata": {},
   "outputs": [],
   "source": [
    "local_tabela = '/html/body/div[1]/div[2]/table'\n",
    "\n",
    "elemento = driver.find_element(\"xpath\", local_tabela)\n",
    "\n",
    "html_tabela = elemento.get_attribute('outerHTML')\n",
    "\n",
    "tabela = pd.read_html(str(html_tabela), thousands = '.', decimal = ',')[0]"
   ]
  },
  {
   "cell_type": "markdown",
   "id": "0f69d96b",
   "metadata": {},
   "source": [
    "# Passo 7 - Construir a tabela final."
   ]
  },
  {
   "cell_type": "code",
   "execution_count": null,
   "id": "7fae12f3",
   "metadata": {},
   "outputs": [],
   "source": [
    "tabela = tabela.set_index(\"Papel\")\n",
    "tabela = tabela[['Cotação', 'EV/EBIT', 'ROIC', 'Liq.2meses']]\n",
    "\n",
    "tabela"
   ]
  },
  {
   "cell_type": "markdown",
   "id": "2e93b7a2",
   "metadata": {},
   "source": [
    "### Temos que transformar o texto em números.."
   ]
  },
  {
   "cell_type": "code",
   "execution_count": null,
   "id": "78e940b4",
   "metadata": {
    "scrolled": true
   },
   "outputs": [],
   "source": [
    "tabela.info()\n",
    "\n",
    "#tabela['EV/EBIT'] * tabela['ROIC']"
   ]
  },
  {
   "cell_type": "markdown",
   "id": "d7abd01b",
   "metadata": {},
   "source": [
    "# Passo 7.2: Tratar o texto."
   ]
  },
  {
   "cell_type": "code",
   "execution_count": null,
   "id": "e22be148",
   "metadata": {},
   "outputs": [],
   "source": [
    "tabela['ROIC'] = tabela['ROIC'].str.replace(\"%\", \"\")\n",
    "tabela['ROIC'] = tabela['ROIC'].str.replace(\".\", \"\")\n",
    "tabela['ROIC'] = tabela['ROIC'].str.replace(\",\", \".\")\n",
    "tabela['ROIC'] = tabela['ROIC'].astype(float)\n",
    "display(tabela)"
   ]
  },
  {
   "cell_type": "markdown",
   "id": "395fbf5a",
   "metadata": {},
   "source": [
    "# Passo 7.3: Fazendo os filtros e criando os rankings. "
   ]
  },
  {
   "cell_type": "code",
   "execution_count": null,
   "id": "feb6e58b",
   "metadata": {},
   "outputs": [],
   "source": [
    "tabela = tabela[tabela['Liq.2meses'] > 1000000]"
   ]
  },
  {
   "cell_type": "code",
   "execution_count": null,
   "id": "08259abf",
   "metadata": {},
   "outputs": [],
   "source": [
    "tabela = tabela[tabela['EV/EBIT'] > 0]\n",
    "tabela = tabela[tabela['ROIC'] > 0]"
   ]
  },
  {
   "cell_type": "code",
   "execution_count": null,
   "id": "4567737e",
   "metadata": {},
   "outputs": [],
   "source": [
    "tabela['ranking_ev_ebit'] = tabela['EV/EBIT'].rank(ascending = True)\n",
    "tabela['ranking_roic'] = tabela['ROIC'].rank(ascending = False)\n",
    "tabela['ranking_total'] = tabela['ranking_ev_ebit'] + tabela['ranking_roic']\n",
    "\n",
    "tabela = tabela.sort_values('ranking_total')\n",
    "\n",
    "tabela.head(10)"
   ]
  },
  {
   "cell_type": "code",
   "execution_count": null,
   "id": "34fd872e",
   "metadata": {},
   "outputs": [],
   "source": []
  },
  {
   "cell_type": "code",
   "execution_count": null,
   "id": "f91bbc2b",
   "metadata": {},
   "outputs": [],
   "source": []
  },
  {
   "cell_type": "code",
   "execution_count": null,
   "id": "720019d7",
   "metadata": {},
   "outputs": [],
   "source": []
  }
 ],
 "metadata": {
  "kernelspec": {
   "display_name": "Python 3 (ipykernel)",
   "language": "python",
   "name": "python3"
  },
  "language_info": {
   "codemirror_mode": {
    "name": "ipython",
    "version": 3
   },
   "file_extension": ".py",
   "mimetype": "text/x-python",
   "name": "python",
   "nbconvert_exporter": "python",
   "pygments_lexer": "ipython3",
   "version": "3.11.3"
  }
 },
 "nbformat": 4,
 "nbformat_minor": 5
}
